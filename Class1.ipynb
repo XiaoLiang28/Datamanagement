{
  "nbformat": 4,
  "nbformat_minor": 0,
  "metadata": {
    "colab": {
      "provenance": [],
      "authorship_tag": "ABX9TyNeGu/g6X9xvRqogjXmybkB",
      "include_colab_link": true
    },
    "kernelspec": {
      "name": "python3",
      "display_name": "Python 3"
    },
    "language_info": {
      "name": "python"
    }
  },
  "cells": [
    {
      "cell_type": "markdown",
      "metadata": {
        "id": "view-in-github",
        "colab_type": "text"
      },
      "source": [
        "<a href=\"https://colab.research.google.com/github/XiaoLiang28/Datamanagement/blob/main/Class1.ipynb\" target=\"_parent\"><img src=\"https://colab.research.google.com/assets/colab-badge.svg\" alt=\"Open In Colab\"/></a>"
      ]
    },
    {
      "cell_type": "code",
      "execution_count": 5,
      "metadata": {
        "colab": {
          "base_uri": "https://localhost:8080/"
        },
        "id": "fa3f3glaNOvO",
        "outputId": "1c8c6688-ba98-45f8-c8c6-9dd0719c8a97"
      },
      "outputs": [
        {
          "output_type": "stream",
          "name": "stdout",
          "text": [
            "5\n",
            "True\n",
            "False\n",
            "<class 'int'>\n",
            "<class 'str'>\n",
            "x is an integer\n"
          ]
        }
      ],
      "source": [
        "x=5\n",
        "print(x)\n",
        "print(x == 5)\n",
        "print(x !=5)\n",
        "print(type(x))\n",
        "y = \"Paris\"\n",
        "print(type(y))\n",
        "print(\"x is an integer\")\n",
        "print(\"(x) is an integer\")\n",
        "print(f\"(x) is an integer\")\n"
      ]
    },
    {
      "cell_type": "code",
      "source": [
        "print(x >4 and x <8)\n",
        "print(x >4 or x >8)"
      ],
      "metadata": {
        "colab": {
          "base_uri": "https://localhost:8080/"
        },
        "id": "5ZFmtCLYPmaj",
        "outputId": "2083a796-b048-4910-a9d7-35591c8ea193"
      },
      "execution_count": 6,
      "outputs": [
        {
          "output_type": "stream",
          "name": "stdout",
          "text": [
            "True\n",
            "True\n"
          ]
        }
      ]
    },
    {
      "cell_type": "code",
      "source": [
        "list1 = [x,y,3.14, \"3.14\"]\n",
        "print(list1)\n",
        "print(f\"first element is {list1[0]}\")\n",
        "list1.append(\"new element\")\n",
        "print(list1)\n",
        "list1.remove(\"new element\")\n",
        "print(list1)"
      ],
      "metadata": {
        "colab": {
          "base_uri": "https://localhost:8080/"
        },
        "id": "wBms6au5P_3I",
        "outputId": "2fb87cf9-5878-4d92-e3c0-30ba5cd055c2"
      },
      "execution_count": 10,
      "outputs": [
        {
          "output_type": "stream",
          "name": "stdout",
          "text": [
            "[5, 'Paris', 3.14, '3.14']\n",
            "first element is 5\n",
            "[5, 'Paris', 3.14, '3.14', 'new element']\n",
            "[5, 'Paris', 3.14, '3.14']\n"
          ]
        }
      ]
    },
    {
      "cell_type": "code",
      "source": [
        "print(\"Paris\" in list1)\n",
        "print(\"Paris\" not in list1)\n",
        "print(777 in list1)"
      ],
      "metadata": {
        "colab": {
          "base_uri": "https://localhost:8080/"
        },
        "id": "xxqiDWW3TG8w",
        "outputId": "ec05c21d-46e5-4a9e-8979-e54bcbd9eff3"
      },
      "execution_count": 11,
      "outputs": [
        {
          "output_type": "stream",
          "name": "stdout",
          "text": [
            "True\n",
            "False\n",
            "False\n"
          ]
        }
      ]
    },
    {
      "cell_type": "code",
      "source": [
        "for i in range(5):\n",
        "  print(i) # control,flow\n",
        "print(\"_\" * 80)\n",
        "for i in list1:\n",
        "  print(i)\n",
        "  print(1 * 2)"
      ],
      "metadata": {
        "colab": {
          "base_uri": "https://localhost:8080/"
        },
        "id": "1AOuAJuxTfke",
        "outputId": "f2c57717-a59b-4e56-e656-d84e180d569e"
      },
      "execution_count": 15,
      "outputs": [
        {
          "output_type": "stream",
          "name": "stdout",
          "text": [
            "0\n",
            "1\n",
            "2\n",
            "3\n",
            "4\n",
            "________________________________________________________________________________\n",
            "5\n",
            "2\n",
            "Paris\n",
            "2\n",
            "3.14\n",
            "2\n",
            "3.14\n",
            "2\n"
          ]
        }
      ]
    },
    {
      "cell_type": "code",
      "source": [
        "N = len(list1)\n",
        "for i in range(N):\n",
        "  print(list1[i])# i is the index,from 0 to N(excluded)\n",
        "for i in list1:\n",
        "  print(i)"
      ],
      "metadata": {
        "colab": {
          "base_uri": "https://localhost:8080/"
        },
        "id": "57Zc6OtwVQCG",
        "outputId": "8447c347-aa8f-4e1e-8509-28091b97b783"
      },
      "execution_count": 16,
      "outputs": [
        {
          "output_type": "stream",
          "name": "stdout",
          "text": [
            "5\n",
            "Paris\n",
            "3.14\n",
            "3.14\n",
            "5\n",
            "Paris\n",
            "3.14\n",
            "3.14\n"
          ]
        }
      ]
    },
    {
      "cell_type": "code",
      "source": [
        "for i in list1[1]: # Paris\n",
        "  print(i) # string is also an iterable object\n"
      ],
      "metadata": {
        "colab": {
          "base_uri": "https://localhost:8080/"
        },
        "id": "Tcg3VTmxWH4Q",
        "outputId": "8fdcb7b7-13f6-4ae0-d0fe-7ce13ae05edc"
      },
      "execution_count": 17,
      "outputs": [
        {
          "output_type": "stream",
          "name": "stdout",
          "text": [
            "P\n",
            "a\n",
            "r\n",
            "i\n",
            "s\n"
          ]
        }
      ]
    },
    {
      "cell_type": "code",
      "source": [
        "# conditional statements\n",
        "if x == 5:\n",
        "  print(\"Proceed\")\n",
        "print(\"_\" * 80)\n",
        "if x >6:\n",
        "  print(\"Proceed\")\n",
        "else:\n",
        "  print(\"Stop\")\n",
        "print(\"_\" * 80)\n",
        "if \"Paris\" in list1:\n",
        "  print(\"France\")\n",
        "else:\n",
        "  print(\"Not France\")"
      ],
      "metadata": {
        "colab": {
          "base_uri": "https://localhost:8080/"
        },
        "id": "8YyAz-IcWvtS",
        "outputId": "47ef011f-ec23-4706-991a-3089d2996630"
      },
      "execution_count": 20,
      "outputs": [
        {
          "output_type": "stream",
          "name": "stdout",
          "text": [
            "Proceed\n",
            "________________________________________________________________________________\n",
            "Stop\n",
            "________________________________________________________________________________\n",
            "France\n"
          ]
        }
      ]
    }
  ]
}